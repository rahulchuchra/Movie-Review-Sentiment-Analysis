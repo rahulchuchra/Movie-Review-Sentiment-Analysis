{
 "cells": [
  {
   "cell_type": "code",
   "execution_count": 2,
   "id": "aaaaed6f",
   "metadata": {},
   "outputs": [],
   "source": [
    "import pandas as pd\n",
    "import numpy as np\n",
    "import matplotlib.pyplot as plt"
   ]
  },
  {
   "cell_type": "code",
   "execution_count": 3,
   "id": "c0fe2ea3",
   "metadata": {},
   "outputs": [
    {
     "data": {
      "text/plain": [
       "20000"
      ]
     },
     "execution_count": 3,
     "metadata": {},
     "output_type": "execute_result"
    }
   ],
   "source": [
    "dataset=pd.read_csv(\"IMDB.csv\")[:20000]\n",
    "dataset.head()\n",
    "len(dataset)"
   ]
  },
  {
   "cell_type": "code",
   "execution_count": 4,
   "id": "f519285e",
   "metadata": {},
   "outputs": [
    {
     "name": "stderr",
     "output_type": "stream",
     "text": [
      "[nltk_data] Downloading package stopwords to\n",
      "[nltk_data]     /Users/rahulchuchra/nltk_data...\n",
      "[nltk_data]   Package stopwords is already up-to-date!\n",
      "[nltk_data] Downloading package wordnet to\n",
      "[nltk_data]     /Users/rahulchuchra/nltk_data...\n",
      "[nltk_data]   Package wordnet is already up-to-date!\n"
     ]
    },
    {
     "data": {
      "text/plain": [
       "True"
      ]
     },
     "execution_count": 4,
     "metadata": {},
     "output_type": "execute_result"
    }
   ],
   "source": [
    "import re\n",
    "import nltk\n",
    "from nltk.corpus import stopwords\n",
    "from nltk.stem import WordNetLemmatizer\n",
    "from nltk.stem.porter import PorterStemmer\n",
    "nltk.download(\"stopwords\")\n",
    "nltk.download('wordnet')"
   ]
  },
  {
   "cell_type": "code",
   "execution_count": 5,
   "id": "cdede2fa",
   "metadata": {},
   "outputs": [],
   "source": [
    "lm=WordNetLemmatizer()\n",
    "ps=PorterStemmer()\n",
    "all_stopwords=stopwords.words(\"english\")\n",
    "all_stopwords.remove(\"not\")"
   ]
  },
  {
   "cell_type": "code",
   "execution_count": 6,
   "id": "a49cdb0d",
   "metadata": {},
   "outputs": [],
   "source": [
    "corpus=[]\n",
    "for i in range(len(dataset)):\n",
    "    review= re.sub(\"[^a-zA-Z]\",\" \",dataset.review[i])\n",
    "    review=review.lower()\n",
    "    review=review.split()\n",
    "    review=[lm.lemmatize(word) for word in review if word not in set(all_stopwords)]\n",
    "    review=\" \".join(review)\n",
    "    corpus.append(review)"
   ]
  },
  {
   "cell_type": "code",
   "execution_count": 7,
   "id": "bbcdd1b9",
   "metadata": {},
   "outputs": [
    {
     "data": {
      "text/plain": [
       "['one reviewer mentioned watching oz episode hooked right exactly happened br br first thing struck oz brutality unflinching scene violence set right word go trust not show faint hearted timid show pull punch regard drug sex violence hardcore classic use word br br called oz nickname given oswald maximum security state penitentary focus mainly emerald city experimental section prison cell glass front face inwards privacy not high agenda em city home many aryan muslim gangsta latino christian italian irish scuffle death stare dodgy dealing shady agreement never far away br br would say main appeal show due fact go show dare forget pretty picture painted mainstream audience forget charm forget romance oz mess around first episode ever saw struck nasty surreal say ready watched developed taste oz got accustomed high level graphic violence not violence injustice crooked guard sold nickel inmate kill order get away well mannered middle class inmate turned prison bitch due lack street skill prison experience watching oz may become comfortable uncomfortable viewing thats get touch darker side',\n",
       " 'wonderful little production br br filming technique unassuming old time bbc fashion give comforting sometimes discomforting sense realism entire piece br br actor extremely well chosen michael sheen not got polari voice pat truly see seamless editing guided reference williams diary entry not well worth watching terrificly written performed piece masterful production one great master comedy life br br realism really come home little thing fantasy guard rather use traditional dream technique remains solid disappears play knowledge sens particularly scene concerning orton halliwell set particularly flat halliwell mural decorating every surface terribly well done',\n",
       " 'thought wonderful way spend time hot summer weekend sitting air conditioned theater watching light hearted comedy plot simplistic dialogue witty character likable even well bread suspected serial killer may disappointed realize not match point risk addiction thought proof woody allen still fully control style many u grown love br br laughed one woody comedy year dare say decade never impressed scarlet johanson managed tone sexy image jumped right average spirited young woman br br may not crown jewel career wittier devil wear prada interesting superman great comedy go see friend',\n",
       " 'basically family little boy jake think zombie closet parent fighting time br br movie slower soap opera suddenly jake decides become rambo kill zombie br br ok first going make film must decide thriller drama drama movie watchable parent divorcing arguing like real life jake closet totally ruin film expected see boogeyman similar movie instead watched drama meaningless thriller spot br br well playing parent descent dialog shot jake ignore',\n",
       " 'petter mattei love time money visually stunning film watch mr mattei offer u vivid portrait human relation movie seems telling u money power success people different situation encounter br br variation arthur schnitzler play theme director transfer action present time new york different character meet connect one connected one way another next person one seems know previous point contact stylishly film sophisticated luxurious look taken see people live world live habitat br br thing one get soul picture different stage loneliness one inhabits big city not exactly best place human relation find sincere fulfillment one discerns case people encounter br br acting good mr mattei direction steve buscemi rosario dawson carol kane michael imperioli adrian grenier rest talented cast make character come alive br br wish mr mattei good luck await anxiously next work',\n",
       " 'probably time favorite movie story selflessness sacrifice dedication noble cause not preachy boring never get old despite seen time last year paul lukas performance brings tear eye bette davis one truly sympathetic role delight kid grandma say like dressed midget child make fun watch mother slow awakening happening world roof believable startling dozen thumb movie',\n",
       " 'sure would like see resurrection dated seahunt series tech today would bring back kid excitement grew black white tv seahunt gunsmoke hero every week vote comeback new sea hunt need change pace tv would work world water adventure oh way thank outlet like view many viewpoint tv many movie ole way believe got wanna say would nice read plus point sea hunt rhyme would line would let submit leave doubt quit must go let',\n",
       " 'show amazing fresh innovative idea first aired first year brilliant thing dropped show not really funny anymore continued decline complete waste time today br br truly disgraceful far show fallen writing painfully bad performance almost bad not mildly entertaining respite guest host show probably still air find hard believe creator hand selected original cast also chose band hack followed one recognize brilliance see fit replace mediocrity felt must give star respect original cast made show huge success show awful believe still air',\n",
       " 'encouraged positive comment film looking forward watching film bad mistake seen film truly one worst awful almost every way editing pacing storyline acting soundtrack film song lame country tune played le four time film look cheap nasty boring extreme rarely happy see end credit film br br thing prevents giving score harvey keitel far best performance least seems making bit effort one keitel obsessive',\n",
       " 'like original gut wrenching laughter like movie young old love movie hell even mom liked br br great camp']"
      ]
     },
     "execution_count": 7,
     "metadata": {},
     "output_type": "execute_result"
    }
   ],
   "source": [
    "corpus[:10]"
   ]
  },
  {
   "cell_type": "code",
   "execution_count": 8,
   "id": "b2e80092",
   "metadata": {},
   "outputs": [],
   "source": [
    "from sklearn.feature_extraction.text import CountVectorizer\n",
    "cv=CountVectorizer()"
   ]
  },
  {
   "cell_type": "code",
   "execution_count": 9,
   "id": "c7488fec",
   "metadata": {},
   "outputs": [
    {
     "data": {
      "text/plain": [
       "array([1, 1, 1, ..., 1, 1, 0])"
      ]
     },
     "execution_count": 9,
     "metadata": {},
     "output_type": "execute_result"
    }
   ],
   "source": [
    "x=cv.fit_transform(corpus).toarray()\n",
    "y=dataset.iloc[:,1].values\n",
    "from sklearn.preprocessing import LabelEncoder\n",
    "lb=LabelEncoder()\n",
    "y=lb.fit_transform(y)\n",
    "y"
   ]
  },
  {
   "cell_type": "code",
   "execution_count": 9,
   "id": "7f20d1d9",
   "metadata": {},
   "outputs": [],
   "source": [
    "import pickle\n",
    "import os\n",
    "bow_path=os.path.join(os.getcwd(),\"model.pkl\")\n",
    "# bow_path\n",
    "pickle.dump(cv,open(bow_path,\"wb\"))"
   ]
  },
  {
   "cell_type": "code",
   "execution_count": 10,
   "id": "fc77a171",
   "metadata": {},
   "outputs": [],
   "source": [
    "from sklearn.model_selection import train_test_split\n",
    "X_train,X_test,y_train,y_test= train_test_split(x,y,test_size=0.30,random_state=21)\n"
   ]
  },
  {
   "cell_type": "code",
   "execution_count": 11,
   "id": "315b23aa",
   "metadata": {},
   "outputs": [
    {
     "data": {
      "text/plain": [
       "array([1, 0, 1, ..., 1, 0, 1])"
      ]
     },
     "execution_count": 11,
     "metadata": {},
     "output_type": "execute_result"
    }
   ],
   "source": [
    "y_train"
   ]
  },
  {
   "cell_type": "code",
   "execution_count": 18,
   "id": "9f4142b6",
   "metadata": {},
   "outputs": [],
   "source": [
    "from sklearn.preprocessing import StandardScaler\n",
    "from sklearn.preprocessing import MinMaxScaler\n",
    "sc = StandardScaler()\n",
    "mms=MinMaxScaler() #standard scaler provides negative values that do not work in multinomial naive bayes\n",
    "X_train = sc.fit_transform(X_train)\n",
    "multi_train=mms.fit_transform(X_train)\n",
    "X_test = sc.transform(X_test)\n",
    "multi_test=mms.fit_transform(X_test)"
   ]
  },
  {
   "cell_type": "code",
   "execution_count": 19,
   "id": "2053bc65",
   "metadata": {},
   "outputs": [],
   "source": [
    "from sklearn.naive_bayes import GaussianNB,MultinomialNB,BernoulliNB"
   ]
  },
  {
   "cell_type": "code",
   "execution_count": 20,
   "id": "975136b1",
   "metadata": {},
   "outputs": [],
   "source": [
    "clf1=GaussianNB()\n",
    "clf2=MultinomialNB()\n",
    "clf3=BernoulliNB()"
   ]
  },
  {
   "cell_type": "code",
   "execution_count": 23,
   "id": "71c31c6c",
   "metadata": {},
   "outputs": [
    {
     "data": {
      "text/plain": [
       "BernoulliNB()"
      ]
     },
     "execution_count": 23,
     "metadata": {},
     "output_type": "execute_result"
    }
   ],
   "source": [
    "clf1.fit(X_train,y_train)\n",
    "clf2.fit(multi_train,y_train)\n",
    "clf3.fit(X_train,y_train)"
   ]
  },
  {
   "cell_type": "code",
   "execution_count": 24,
   "id": "208c85ae",
   "metadata": {},
   "outputs": [],
   "source": [
    "g_pred=clf1.predict(X_test)\n",
    "m_pred=clf2.predict(multi_test)\n",
    "b_pred=clf3.predict(X_test)"
   ]
  },
  {
   "cell_type": "code",
   "execution_count": 25,
   "id": "90c05da3",
   "metadata": {},
   "outputs": [],
   "source": [
    "from sklearn.metrics import confusion_matrix,accuracy_score"
   ]
  },
  {
   "cell_type": "code",
   "execution_count": 28,
   "id": "c8b19f6d",
   "metadata": {},
   "outputs": [
    {
     "name": "stdout",
     "output_type": "stream",
     "text": [
      "GaussianNB  0.6161666666666666\n",
      "MultinomialNB  0.8341666666666666\n",
      "BernoulliNB  0.8516666666666667\n"
     ]
    }
   ],
   "source": [
    "print('GaussianNB ',accuracy_score(y_test,g_pred))\n",
    "print('MultinomialNB ',accuracy_score(y_test,m_pred))\n",
    "print('BernoulliNB ',accuracy_score(y_test,b_pred))"
   ]
  },
  {
   "cell_type": "code",
   "execution_count": 29,
   "id": "b74f7837",
   "metadata": {},
   "outputs": [
    {
     "name": "stderr",
     "output_type": "stream",
     "text": [
      "/Users/rahulchuchra/opt/anaconda3/lib/python3.8/site-packages/sklearn/linear_model/_sag.py:328: ConvergenceWarning: The max_iter was reached which means the coef_ did not converge\n",
      "  warnings.warn(\"The max_iter was reached which means \"\n"
     ]
    },
    {
     "data": {
      "text/plain": [
       "LogisticRegression(max_iter=120, random_state=5, solver='saga')"
      ]
     },
     "execution_count": 29,
     "metadata": {},
     "output_type": "execute_result"
    }
   ],
   "source": [
    "from sklearn.linear_model import LogisticRegression\n",
    "classifier = LogisticRegression(random_state = 5,solver=\"saga\",max_iter=120)\n",
    "classifier.fit(X_train, y_train)"
   ]
  },
  {
   "cell_type": "code",
   "execution_count": 45,
   "id": "27b15f34",
   "metadata": {},
   "outputs": [
    {
     "name": "stdout",
     "output_type": "stream",
     "text": [
      "[[2589  394]\n",
      " [ 417 2600]] 0.8648333333333333\n"
     ]
    }
   ],
   "source": [
    "y_pred=classifier.predict(X_test)\n",
    "cm=confusion_matrix(y_test,y_pred)\n",
    "score=accuracy_score(y_test,y_pred)\n",
    "print(cm)\n",
    "print('Logistic Regression ',score)"
   ]
  },
  {
   "cell_type": "code",
   "execution_count": 34,
   "id": "3f161c19",
   "metadata": {},
   "outputs": [
    {
     "data": {
      "text/plain": [
       "['/Users/rahulchuchra/Downloads/DATA SCIENCE/Sentiment_NLP/logistic-87.5_solver=saga_max_iter=120']"
      ]
     },
     "execution_count": 34,
     "metadata": {},
     "output_type": "execute_result"
    }
   ],
   "source": [
    "# import joblib\n",
    "# joblib.dump(classifier,os.path.join(os.getcwd(),\"logistic-87.5_solver=saga_max_iter=120\"))"
   ]
  },
  {
   "cell_type": "code",
   "execution_count": 67,
   "id": "dc4be3ea",
   "metadata": {},
   "outputs": [
    {
     "name": "stderr",
     "output_type": "stream",
     "text": [
      "[nltk_data] Downloading package punkt to\n",
      "[nltk_data]     /Users/rahulchuchra/nltk_data...\n",
      "[nltk_data]   Package punkt is already up-to-date!\n"
     ]
    },
    {
     "name": "stdout",
     "output_type": "stream",
     "text": [
      "After a flashback, this movie jumps to a couple of slackers, Shaun and Katy, with Shaun proving during a wild bus ride that he is much more than a car attendant. Soon they're on a globe hoping adventure with world-saving dimensions.  The martial arts choreography is terrific, from the opening forest fight through that fantastic bus bit to the final hand-to-hand battle (followed by the big special effects battle seemingly required in every Marvel film). Fights are funny and exciting and that final battle is truly suspenseful.  The cast is also excellent. Awkwafina is as funny as ever, Michelle Yeoh and Tony Leung bring all their seasoned expertise to their roles, and the actors are don't know are also first rate.  Although ... in the case of Simu Liu, who plays Shaun/Shang-Chi, I have no strong opinion. He's a pleasant every man who handles the action scenes well but seems less mythic hero than \"genial best friend of the main character.\" With all the other talent on screen he doesn't manage to leave much of an impression, but on the bright side I don't object to him.  The story is fun, the movie does a good job of mixing humor, action, and tragical reminiscences the pace is terrific, and man there are some great fights. Recommended.\n"
     ]
    },
    {
     "data": {
      "text/plain": [
       "(array([1]),\n",
       " 'flashback movie jump couple slacker shaun katy shaun proving wild bus ride much car attendant soon globe hoping adventure world saving dimension martial art choreography terrific opening forest fight fantastic bus bit final hand hand battle followed big special effect battle seemingly required every marvel film fight funny exciting final battle truly suspenseful cast also excellent awkwafina funny ever michelle yeoh tony leung bring seasoned expertise role actor know also first rate although case simu liu play shaun shang chi strong opinion pleasant every man handle action scene well seems le mythic hero genial best friend main character talent screen manage leave much impression bright side object story fun movie good job mixing humor action tragical reminiscence pace terrific man great fight recommended',\n",
       " array([ True]))"
      ]
     },
     "execution_count": 67,
     "metadata": {},
     "output_type": "execute_result"
    }
   ],
   "source": [
    "from nltk.tokenize import word_tokenize\n",
    "nltk.download('punkt')\n",
    "review=input()\n",
    "review= re.sub(\"[^a-zA-Z]\",\" \",review)\n",
    "review=review.lower()\n",
    "review=word_tokenize(review)\n",
    "review=[lm.lemmatize(word) for word in review if word not in set(all_stopwords)]\n",
    "review=\" \".join(review)\n",
    "l=[]\n",
    "l.append(review)\n",
    "cf=pickle.load(open(bow_path,\"rb\"))\n",
    "v=cf.transform(l).toarray()\n",
    "result=classf.predict(v)\n",
    "result,review,v.any(1)"
   ]
  },
  {
   "cell_type": "code",
   "execution_count": 31,
   "id": "1edbd189",
   "metadata": {},
   "outputs": [
    {
     "data": {
      "text/plain": [
       "True"
      ]
     },
     "execution_count": 31,
     "metadata": {},
     "output_type": "execute_result"
    }
   ],
   "source": []
  }
 ],
 "metadata": {
  "kernelspec": {
   "display_name": "Python 3",
   "language": "python",
   "name": "python3"
  },
  "language_info": {
   "codemirror_mode": {
    "name": "ipython",
    "version": 3
   },
   "file_extension": ".py",
   "mimetype": "text/x-python",
   "name": "python",
   "nbconvert_exporter": "python",
   "pygments_lexer": "ipython3",
   "version": "3.8.8"
  }
 },
 "nbformat": 4,
 "nbformat_minor": 5
}
